{
 "cells": [
  {
   "cell_type": "markdown",
   "metadata": {},
   "source": [
    "# Pluralsight Python course\n"
   ]
  },
  {
   "cell_type": "markdown",
   "metadata": {},
   "source": [
    "Python dictonary\n"
   ]
  },
  {
   "cell_type": "code",
   "execution_count": 3,
   "metadata": {},
   "outputs": [
    {
     "name": "stdout",
     "output_type": "stream",
     "text": [
      "Error finding last name.\n",
      "Code works\n"
     ]
    }
   ],
   "source": [
    "student = {\n",
    "    \"name\": \"Mark\",\n",
    "    \"student_id\": 1234,\n",
    "    \"feedback\": None\n",
    "}\n",
    "\n",
    "try:\n",
    "    last_name = student[\"last_name\"]\n",
    "except KeyError:\n",
    "    print(\"Error finding last name.\")\n",
    "    \n",
    "print(\"Code works\")"
   ]
  },
  {
   "cell_type": "code",
   "execution_count": null,
   "metadata": {},
   "outputs": [],
   "source": []
  },
  {
   "cell_type": "code",
   "execution_count": 1,
   "metadata": {},
   "outputs": [
    {
     "name": "stdout",
     "output_type": "stream",
     "text": [
      "Dennis\n"
     ]
    }
   ],
   "source": [
    "students = []\n",
    "\n",
    "def get_student_titlecase():\n",
    "    students_titlecase = []\n",
    "    for student in students:\n",
    "        students_titlecase = student.title()\n",
    "    return students_titlecase\n",
    "\n",
    "\n",
    "def print_student_titlecase():\n",
    "    students_titlecase = get_student_titlecase()\n",
    "    print(students_titlecase)\n",
    "    \n",
    "\n",
    "def add_student(name, student_id=100):\n",
    "    student = {\n",
    "        'name': name,\n",
    "        'student_id': student_id\n",
    "    }\n",
    "    students.append(name)\n",
    "    \n",
    "student_list = get_student_titlecase()\n",
    "\n",
    "student_name = input(\"Enter student Name: \")\n",
    "student_id = input(\"Enter student ID: \")\n",
    "    \n",
    "\n",
    "add_student(student_name, student_id)\n",
    "print_student_titlecase()"
   ]
  }
 ],
 "metadata": {
  "kernelspec": {
   "display_name": "Python 3",
   "language": "python",
   "name": "python3"
  },
  "language_info": {
   "codemirror_mode": {
    "name": "ipython",
    "version": 3
   },
   "file_extension": ".py",
   "mimetype": "text/x-python",
   "name": "python",
   "nbconvert_exporter": "python",
   "pygments_lexer": "ipython3",
   "version": "3.6.4"
  }
 },
 "nbformat": 4,
 "nbformat_minor": 2
}
